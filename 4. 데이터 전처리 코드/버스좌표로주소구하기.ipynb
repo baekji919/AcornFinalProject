{
 "cells": [
  {
   "cell_type": "code",
   "execution_count": 7,
   "metadata": {},
   "outputs": [],
   "source": [
    "import pandas as pd\n",
    "import json\n",
    "import requests"
   ]
  },
  {
   "cell_type": "code",
   "execution_count": 149,
   "metadata": {},
   "outputs": [],
   "source": [
    "df = pd.read_excel('C:/Users/acorn/Desktop/dddd/bus/2020bus.xlsx')"
   ]
  },
  {
   "cell_type": "code",
   "execution_count": 150,
   "metadata": {},
   "outputs": [],
   "source": [
    "del df['ARS-ID']\n",
    "del df['표준ID']\n",
    "del df['비고']"
   ]
  },
  {
   "cell_type": "code",
   "execution_count": 151,
   "metadata": {},
   "outputs": [
    {
     "data": {
      "text/html": [
       "<div>\n",
       "<style scoped>\n",
       "    .dataframe tbody tr th:only-of-type {\n",
       "        vertical-align: middle;\n",
       "    }\n",
       "\n",
       "    .dataframe tbody tr th {\n",
       "        vertical-align: top;\n",
       "    }\n",
       "\n",
       "    .dataframe thead th {\n",
       "        text-align: right;\n",
       "    }\n",
       "</style>\n",
       "<table border=\"1\" class=\"dataframe\">\n",
       "  <thead>\n",
       "    <tr style=\"text-align: right;\">\n",
       "      <th></th>\n",
       "      <th>정류장명</th>\n",
       "      <th>X좌표</th>\n",
       "      <th>Y좌표</th>\n",
       "    </tr>\n",
       "  </thead>\n",
       "  <tbody>\n",
       "    <tr>\n",
       "      <th>0</th>\n",
       "      <td>종로2가사거리</td>\n",
       "      <td>126.987750</td>\n",
       "      <td>37.569765</td>\n",
       "    </tr>\n",
       "    <tr>\n",
       "      <th>1</th>\n",
       "      <td>창경궁.서울대학교병원</td>\n",
       "      <td>126.996566</td>\n",
       "      <td>37.579183</td>\n",
       "    </tr>\n",
       "    <tr>\n",
       "      <th>2</th>\n",
       "      <td>명륜3가.성대입구</td>\n",
       "      <td>126.998340</td>\n",
       "      <td>37.582671</td>\n",
       "    </tr>\n",
       "    <tr>\n",
       "      <th>3</th>\n",
       "      <td>종로2가.삼일교</td>\n",
       "      <td>126.987613</td>\n",
       "      <td>37.568579</td>\n",
       "    </tr>\n",
       "    <tr>\n",
       "      <th>4</th>\n",
       "      <td>혜화동로터리.여운형활동터</td>\n",
       "      <td>127.001744</td>\n",
       "      <td>37.586243</td>\n",
       "    </tr>\n",
       "    <tr>\n",
       "      <th>...</th>\n",
       "      <td>...</td>\n",
       "      <td>...</td>\n",
       "      <td>...</td>\n",
       "    </tr>\n",
       "    <tr>\n",
       "      <th>11275</th>\n",
       "      <td>우성아파트</td>\n",
       "      <td>127.139339</td>\n",
       "      <td>37.550386</td>\n",
       "    </tr>\n",
       "    <tr>\n",
       "      <th>11276</th>\n",
       "      <td>우성아파트</td>\n",
       "      <td>127.140046</td>\n",
       "      <td>37.550643</td>\n",
       "    </tr>\n",
       "    <tr>\n",
       "      <th>11277</th>\n",
       "      <td>조일약국</td>\n",
       "      <td>127.123596</td>\n",
       "      <td>37.533630</td>\n",
       "    </tr>\n",
       "    <tr>\n",
       "      <th>11278</th>\n",
       "      <td>성내시장</td>\n",
       "      <td>127.125497</td>\n",
       "      <td>37.536155</td>\n",
       "    </tr>\n",
       "    <tr>\n",
       "      <th>11279</th>\n",
       "      <td>천호우체국.로데오거리</td>\n",
       "      <td>127.127337</td>\n",
       "      <td>37.540343</td>\n",
       "    </tr>\n",
       "  </tbody>\n",
       "</table>\n",
       "<p>11280 rows × 3 columns</p>\n",
       "</div>"
      ],
      "text/plain": [
       "                정류장명         X좌표        Y좌표\n",
       "0            종로2가사거리  126.987750  37.569765\n",
       "1        창경궁.서울대학교병원  126.996566  37.579183\n",
       "2          명륜3가.성대입구  126.998340  37.582671\n",
       "3           종로2가.삼일교  126.987613  37.568579\n",
       "4      혜화동로터리.여운형활동터  127.001744  37.586243\n",
       "...              ...         ...        ...\n",
       "11275          우성아파트  127.139339  37.550386\n",
       "11276          우성아파트  127.140046  37.550643\n",
       "11277           조일약국  127.123596  37.533630\n",
       "11278           성내시장  127.125497  37.536155\n",
       "11279    천호우체국.로데오거리  127.127337  37.540343\n",
       "\n",
       "[11280 rows x 3 columns]"
      ]
     },
     "execution_count": 151,
     "metadata": {},
     "output_type": "execute_result"
    }
   ],
   "source": [
    "df"
   ]
  },
  {
   "cell_type": "code",
   "execution_count": 140,
   "metadata": {},
   "outputs": [],
   "source": [
    "def get_addr(x, y):\n",
    "    get_code = requests.get('http://api.vworld.kr/req/address?service=address&request=getAddress&version=2.0&crs=epsg:4326&point='+x+','+y+'&format=json&type=both&zipcode=true&simple=false&key=9834BFA9-DBB5-342F-BCB9-6E68109DCA6C')\n",
    "    json_obj = get_code.json()\n",
    "    if json_obj['response']['status'] == 'NOT_FOUND':\n",
    "        result = \"NaN\"\n",
    "    else:\n",
    "        result = json_obj['response']['result'][0]['text']\n",
    "    return result\n",
    "\n",
    "# API 키값\n",
    "# 9834BFA9-DBB5-342F-BCB9-6E68109DCA6C\n",
    "# DF50E610-13D3-392C-99C6-D4A1E1DE8512"
   ]
  },
  {
   "cell_type": "code",
   "execution_count": 141,
   "metadata": {},
   "outputs": [],
   "source": [
    "List = []\n",
    "\n",
    "for i in range(0, len(df['X좌표'])):\n",
    "    List.append(get_addr(str(df['X좌표'][i]),str(df['Y좌표'][i])))"
   ]
  },
  {
   "cell_type": "code",
   "execution_count": 142,
   "metadata": {},
   "outputs": [
    {
     "data": {
      "text/plain": [
       "11280"
      ]
     },
     "execution_count": 142,
     "metadata": {},
     "output_type": "execute_result"
    }
   ],
   "source": [
    "len(List)"
   ]
  },
  {
   "cell_type": "code",
   "execution_count": 143,
   "metadata": {},
   "outputs": [],
   "source": [
    "data = pd.DataFrame(List, columns = ['주소'])"
   ]
  },
  {
   "cell_type": "code",
   "execution_count": 144,
   "metadata": {},
   "outputs": [
    {
     "data": {
      "text/html": [
       "<div>\n",
       "<style scoped>\n",
       "    .dataframe tbody tr th:only-of-type {\n",
       "        vertical-align: middle;\n",
       "    }\n",
       "\n",
       "    .dataframe tbody tr th {\n",
       "        vertical-align: top;\n",
       "    }\n",
       "\n",
       "    .dataframe thead th {\n",
       "        text-align: right;\n",
       "    }\n",
       "</style>\n",
       "<table border=\"1\" class=\"dataframe\">\n",
       "  <thead>\n",
       "    <tr style=\"text-align: right;\">\n",
       "      <th></th>\n",
       "      <th>주소</th>\n",
       "    </tr>\n",
       "  </thead>\n",
       "  <tbody>\n",
       "    <tr>\n",
       "      <th>0</th>\n",
       "      <td>서울특별시 종로구 종로2가 84-11</td>\n",
       "    </tr>\n",
       "    <tr>\n",
       "      <th>1</th>\n",
       "      <td>서울특별시 종로구 와룡동 2-87</td>\n",
       "    </tr>\n",
       "    <tr>\n",
       "      <th>2</th>\n",
       "      <td>서울특별시 종로구 명륜4가 193-2</td>\n",
       "    </tr>\n",
       "    <tr>\n",
       "      <th>3</th>\n",
       "      <td>서울특별시 종로구 관철동 268</td>\n",
       "    </tr>\n",
       "    <tr>\n",
       "      <th>4</th>\n",
       "      <td>서울특별시 종로구 혜화동 56</td>\n",
       "    </tr>\n",
       "    <tr>\n",
       "      <th>...</th>\n",
       "      <td>...</td>\n",
       "    </tr>\n",
       "    <tr>\n",
       "      <th>11275</th>\n",
       "      <td>서울특별시 강동구 천호동 19-1</td>\n",
       "    </tr>\n",
       "    <tr>\n",
       "      <th>11276</th>\n",
       "      <td>서울특별시 강동구 암사동 421-110</td>\n",
       "    </tr>\n",
       "    <tr>\n",
       "      <th>11277</th>\n",
       "      <td>서울특별시 강동구 성내동 127-1</td>\n",
       "    </tr>\n",
       "    <tr>\n",
       "      <th>11278</th>\n",
       "      <td>서울특별시 강동구 성내동 38-3</td>\n",
       "    </tr>\n",
       "    <tr>\n",
       "      <th>11279</th>\n",
       "      <td>서울특별시 강동구 천호동 421-4</td>\n",
       "    </tr>\n",
       "  </tbody>\n",
       "</table>\n",
       "<p>11280 rows × 1 columns</p>\n",
       "</div>"
      ],
      "text/plain": [
       "                          주소\n",
       "0       서울특별시 종로구 종로2가 84-11\n",
       "1         서울특별시 종로구 와룡동 2-87\n",
       "2       서울특별시 종로구 명륜4가 193-2\n",
       "3          서울특별시 종로구 관철동 268\n",
       "4           서울특별시 종로구 혜화동 56\n",
       "...                      ...\n",
       "11275     서울특별시 강동구 천호동 19-1\n",
       "11276  서울특별시 강동구 암사동 421-110\n",
       "11277    서울특별시 강동구 성내동 127-1\n",
       "11278     서울특별시 강동구 성내동 38-3\n",
       "11279    서울특별시 강동구 천호동 421-4\n",
       "\n",
       "[11280 rows x 1 columns]"
      ]
     },
     "execution_count": 144,
     "metadata": {},
     "output_type": "execute_result"
    }
   ],
   "source": [
    "data"
   ]
  },
  {
   "cell_type": "code",
   "execution_count": 145,
   "metadata": {},
   "outputs": [],
   "source": [
    "excdata = data[data['주소']==\"NaN\"]"
   ]
  },
  {
   "cell_type": "code",
   "execution_count": 146,
   "metadata": {},
   "outputs": [
    {
     "data": {
      "text/html": [
       "<div>\n",
       "<style scoped>\n",
       "    .dataframe tbody tr th:only-of-type {\n",
       "        vertical-align: middle;\n",
       "    }\n",
       "\n",
       "    .dataframe tbody tr th {\n",
       "        vertical-align: top;\n",
       "    }\n",
       "\n",
       "    .dataframe thead th {\n",
       "        text-align: right;\n",
       "    }\n",
       "</style>\n",
       "<table border=\"1\" class=\"dataframe\">\n",
       "  <thead>\n",
       "    <tr style=\"text-align: right;\">\n",
       "      <th></th>\n",
       "      <th>주소</th>\n",
       "    </tr>\n",
       "  </thead>\n",
       "  <tbody>\n",
       "    <tr>\n",
       "      <th>2934</th>\n",
       "      <td>NaN</td>\n",
       "    </tr>\n",
       "    <tr>\n",
       "      <th>2951</th>\n",
       "      <td>NaN</td>\n",
       "    </tr>\n",
       "    <tr>\n",
       "      <th>4534</th>\n",
       "      <td>NaN</td>\n",
       "    </tr>\n",
       "    <tr>\n",
       "      <th>4536</th>\n",
       "      <td>NaN</td>\n",
       "    </tr>\n",
       "    <tr>\n",
       "      <th>4544</th>\n",
       "      <td>NaN</td>\n",
       "    </tr>\n",
       "    <tr>\n",
       "      <th>4545</th>\n",
       "      <td>NaN</td>\n",
       "    </tr>\n",
       "    <tr>\n",
       "      <th>4676</th>\n",
       "      <td>NaN</td>\n",
       "    </tr>\n",
       "    <tr>\n",
       "      <th>5659</th>\n",
       "      <td>NaN</td>\n",
       "    </tr>\n",
       "  </tbody>\n",
       "</table>\n",
       "</div>"
      ],
      "text/plain": [
       "       주소\n",
       "2934  NaN\n",
       "2951  NaN\n",
       "4534  NaN\n",
       "4536  NaN\n",
       "4544  NaN\n",
       "4545  NaN\n",
       "4676  NaN\n",
       "5659  NaN"
      ]
     },
     "execution_count": 146,
     "metadata": {},
     "output_type": "execute_result"
    }
   ],
   "source": [
    "excdata"
   ]
  },
  {
   "cell_type": "code",
   "execution_count": 154,
   "metadata": {},
   "outputs": [
    {
     "data": {
      "text/html": [
       "<div>\n",
       "<style scoped>\n",
       "    .dataframe tbody tr th:only-of-type {\n",
       "        vertical-align: middle;\n",
       "    }\n",
       "\n",
       "    .dataframe tbody tr th {\n",
       "        vertical-align: top;\n",
       "    }\n",
       "\n",
       "    .dataframe thead th {\n",
       "        text-align: right;\n",
       "    }\n",
       "</style>\n",
       "<table border=\"1\" class=\"dataframe\">\n",
       "  <thead>\n",
       "    <tr style=\"text-align: right;\">\n",
       "      <th></th>\n",
       "      <th>정류장명</th>\n",
       "      <th>X좌표</th>\n",
       "      <th>Y좌표</th>\n",
       "      <th>주소</th>\n",
       "    </tr>\n",
       "  </thead>\n",
       "  <tbody>\n",
       "    <tr>\n",
       "      <th>0</th>\n",
       "      <td>종로2가사거리</td>\n",
       "      <td>126.987750</td>\n",
       "      <td>37.569765</td>\n",
       "      <td>서울특별시 종로구 종로2가 84-11</td>\n",
       "    </tr>\n",
       "    <tr>\n",
       "      <th>1</th>\n",
       "      <td>창경궁.서울대학교병원</td>\n",
       "      <td>126.996566</td>\n",
       "      <td>37.579183</td>\n",
       "      <td>서울특별시 종로구 와룡동 2-87</td>\n",
       "    </tr>\n",
       "    <tr>\n",
       "      <th>2</th>\n",
       "      <td>명륜3가.성대입구</td>\n",
       "      <td>126.998340</td>\n",
       "      <td>37.582671</td>\n",
       "      <td>서울특별시 종로구 명륜4가 193-2</td>\n",
       "    </tr>\n",
       "    <tr>\n",
       "      <th>3</th>\n",
       "      <td>종로2가.삼일교</td>\n",
       "      <td>126.987613</td>\n",
       "      <td>37.568579</td>\n",
       "      <td>서울특별시 종로구 관철동 268</td>\n",
       "    </tr>\n",
       "    <tr>\n",
       "      <th>4</th>\n",
       "      <td>혜화동로터리.여운형활동터</td>\n",
       "      <td>127.001744</td>\n",
       "      <td>37.586243</td>\n",
       "      <td>서울특별시 종로구 혜화동 56</td>\n",
       "    </tr>\n",
       "    <tr>\n",
       "      <th>...</th>\n",
       "      <td>...</td>\n",
       "      <td>...</td>\n",
       "      <td>...</td>\n",
       "      <td>...</td>\n",
       "    </tr>\n",
       "    <tr>\n",
       "      <th>11275</th>\n",
       "      <td>우성아파트</td>\n",
       "      <td>127.139339</td>\n",
       "      <td>37.550386</td>\n",
       "      <td>서울특별시 강동구 천호동 19-1</td>\n",
       "    </tr>\n",
       "    <tr>\n",
       "      <th>11276</th>\n",
       "      <td>우성아파트</td>\n",
       "      <td>127.140046</td>\n",
       "      <td>37.550643</td>\n",
       "      <td>서울특별시 강동구 암사동 421-110</td>\n",
       "    </tr>\n",
       "    <tr>\n",
       "      <th>11277</th>\n",
       "      <td>조일약국</td>\n",
       "      <td>127.123596</td>\n",
       "      <td>37.533630</td>\n",
       "      <td>서울특별시 강동구 성내동 127-1</td>\n",
       "    </tr>\n",
       "    <tr>\n",
       "      <th>11278</th>\n",
       "      <td>성내시장</td>\n",
       "      <td>127.125497</td>\n",
       "      <td>37.536155</td>\n",
       "      <td>서울특별시 강동구 성내동 38-3</td>\n",
       "    </tr>\n",
       "    <tr>\n",
       "      <th>11279</th>\n",
       "      <td>천호우체국.로데오거리</td>\n",
       "      <td>127.127337</td>\n",
       "      <td>37.540343</td>\n",
       "      <td>서울특별시 강동구 천호동 421-4</td>\n",
       "    </tr>\n",
       "  </tbody>\n",
       "</table>\n",
       "<p>11280 rows × 4 columns</p>\n",
       "</div>"
      ],
      "text/plain": [
       "                정류장명         X좌표        Y좌표                     주소\n",
       "0            종로2가사거리  126.987750  37.569765   서울특별시 종로구 종로2가 84-11\n",
       "1        창경궁.서울대학교병원  126.996566  37.579183     서울특별시 종로구 와룡동 2-87\n",
       "2          명륜3가.성대입구  126.998340  37.582671   서울특별시 종로구 명륜4가 193-2\n",
       "3           종로2가.삼일교  126.987613  37.568579      서울특별시 종로구 관철동 268\n",
       "4      혜화동로터리.여운형활동터  127.001744  37.586243       서울특별시 종로구 혜화동 56\n",
       "...              ...         ...        ...                    ...\n",
       "11275          우성아파트  127.139339  37.550386     서울특별시 강동구 천호동 19-1\n",
       "11276          우성아파트  127.140046  37.550643  서울특별시 강동구 암사동 421-110\n",
       "11277           조일약국  127.123596  37.533630    서울특별시 강동구 성내동 127-1\n",
       "11278           성내시장  127.125497  37.536155     서울특별시 강동구 성내동 38-3\n",
       "11279    천호우체국.로데오거리  127.127337  37.540343    서울특별시 강동구 천호동 421-4\n",
       "\n",
       "[11280 rows x 4 columns]"
      ]
     },
     "execution_count": 154,
     "metadata": {},
     "output_type": "execute_result"
    }
   ],
   "source": [
    "data2018 = pd.concat([df,data], axis=1)\n",
    "data2018"
   ]
  },
  {
   "cell_type": "code",
   "execution_count": 148,
   "metadata": {},
   "outputs": [],
   "source": [
    "df2 = pd.read_excel('C:/Users/acorn/Desktop/dddd/bus/2018data.xlsx')\n",
    "df3 = pd.read_excel('C:/Users/acorn/Desktop/dddd/bus/2019data.xlsx')"
   ]
  },
  {
   "cell_type": "code",
   "execution_count": 155,
   "metadata": {},
   "outputs": [],
   "source": [
    "List = []\n",
    "\n",
    "for i in range(0, len(df2['X좌표'])):\n",
    "    List.append(get_addr(str(df2['X좌표'][i]),str(df2['Y좌표'][i])))"
   ]
  },
  {
   "cell_type": "code",
   "execution_count": 157,
   "metadata": {},
   "outputs": [],
   "source": [
    "data2 = pd.DataFrame(List, columns = ['주소'])\n",
    "\n",
    "data2019 = pd.concat([df2,data2], axis=1)"
   ]
  },
  {
   "cell_type": "code",
   "execution_count": 158,
   "metadata": {},
   "outputs": [],
   "source": [
    "List = []\n",
    "\n",
    "for i in range(0, len(df3['X좌표'])):\n",
    "    List.append(get_addr(str(df3['X좌표'][i]),str(df3['Y좌표'][i])))"
   ]
  },
  {
   "cell_type": "code",
   "execution_count": 160,
   "metadata": {},
   "outputs": [],
   "source": [
    "data3 = pd.DataFrame(List, columns = ['주소'])\n",
    "\n",
    "data2020 = pd.concat([df3,data3], axis=1)"
   ]
  },
  {
   "cell_type": "code",
   "execution_count": 161,
   "metadata": {},
   "outputs": [],
   "source": [
    "result = pd.concat([data2018, data2019, data2020], keys=['2018','2019','2020'])"
   ]
  },
  {
   "cell_type": "code",
   "execution_count": 162,
   "metadata": {},
   "outputs": [],
   "source": [
    "result.to_excel('C:/Users/acorn/Desktop/dddd/bus/resultdata.xlsx')"
   ]
  },
  {
   "cell_type": "code",
   "execution_count": null,
   "metadata": {},
   "outputs": [],
   "source": []
  }
 ],
 "metadata": {
  "kernelspec": {
   "display_name": "Python 3",
   "language": "python",
   "name": "python3"
  },
  "language_info": {
   "codemirror_mode": {
    "name": "ipython",
    "version": 3
   },
   "file_extension": ".py",
   "mimetype": "text/x-python",
   "name": "python",
   "nbconvert_exporter": "python",
   "pygments_lexer": "ipython3",
   "version": "3.7.7"
  }
 },
 "nbformat": 4,
 "nbformat_minor": 4
}
