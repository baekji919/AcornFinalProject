{
 "cells": [
  {
   "cell_type": "code",
   "execution_count": 1,
   "metadata": {},
   "outputs": [],
   "source": [
    "import pandas as pd"
   ]
  },
  {
   "cell_type": "code",
   "execution_count": 2,
   "metadata": {},
   "outputs": [],
   "source": [
    "df1 = pd.read_excel('C:/Users/USER/Desktop/dump/2. 데이터 파일/지하철/metrodata.xlsx')"
   ]
  },
  {
   "cell_type": "code",
   "execution_count": 3,
   "metadata": {},
   "outputs": [],
   "source": [
    "del df1['Unnamed: 0']"
   ]
  },
  {
   "cell_type": "code",
   "execution_count": 4,
   "metadata": {},
   "outputs": [
    {
     "data": {
      "text/html": [
       "<div>\n",
       "<style scoped>\n",
       "    .dataframe tbody tr th:only-of-type {\n",
       "        vertical-align: middle;\n",
       "    }\n",
       "\n",
       "    .dataframe tbody tr th {\n",
       "        vertical-align: top;\n",
       "    }\n",
       "\n",
       "    .dataframe thead th {\n",
       "        text-align: right;\n",
       "    }\n",
       "</style>\n",
       "<table border=\"1\" class=\"dataframe\">\n",
       "  <thead>\n",
       "    <tr style=\"text-align: right;\">\n",
       "      <th></th>\n",
       "      <th>호선</th>\n",
       "      <th>역명</th>\n",
       "      <th>주소</th>\n",
       "    </tr>\n",
       "  </thead>\n",
       "  <tbody>\n",
       "    <tr>\n",
       "      <th>0</th>\n",
       "      <td>1</td>\n",
       "      <td>가산디지털단지</td>\n",
       "      <td>서울특별시 금천구 벚꽃로 309</td>\n",
       "    </tr>\n",
       "    <tr>\n",
       "      <th>1</th>\n",
       "      <td>1</td>\n",
       "      <td>개봉</td>\n",
       "      <td>서울특별시 구로구 경인로40길 47</td>\n",
       "    </tr>\n",
       "    <tr>\n",
       "      <th>2</th>\n",
       "      <td>1</td>\n",
       "      <td>광운대</td>\n",
       "      <td>서울특별시 노원구 석계로 98-2</td>\n",
       "    </tr>\n",
       "    <tr>\n",
       "      <th>3</th>\n",
       "      <td>1</td>\n",
       "      <td>구로</td>\n",
       "      <td>서울특별시 구로구 구로중앙로 174</td>\n",
       "    </tr>\n",
       "    <tr>\n",
       "      <th>4</th>\n",
       "      <td>1</td>\n",
       "      <td>구일</td>\n",
       "      <td>서울특별시 구로구 구일로 133</td>\n",
       "    </tr>\n",
       "    <tr>\n",
       "      <th>...</th>\n",
       "      <td>...</td>\n",
       "      <td>...</td>\n",
       "      <td>...</td>\n",
       "    </tr>\n",
       "    <tr>\n",
       "      <th>366</th>\n",
       "      <td>우이신설</td>\n",
       "      <td>북한산보국문</td>\n",
       "      <td>서울특별시 성북구 보국문로 지하 88</td>\n",
       "    </tr>\n",
       "    <tr>\n",
       "      <th>367</th>\n",
       "      <td>우이신설</td>\n",
       "      <td>정릉</td>\n",
       "      <td>서울특별시 성북구 아리랑로 지하 122</td>\n",
       "    </tr>\n",
       "    <tr>\n",
       "      <th>368</th>\n",
       "      <td>우이신설</td>\n",
       "      <td>성신여대입구</td>\n",
       "      <td>서울특별시 성북구 동소문로 지하 102</td>\n",
       "    </tr>\n",
       "    <tr>\n",
       "      <th>369</th>\n",
       "      <td>우이신설</td>\n",
       "      <td>보문(우이신설)</td>\n",
       "      <td>서울특별시 성북구 보문로 지하 116</td>\n",
       "    </tr>\n",
       "    <tr>\n",
       "      <th>370</th>\n",
       "      <td>우이신설</td>\n",
       "      <td>신설동(우이신설)</td>\n",
       "      <td>서울특별시 동대문구 왕산로 지하 1</td>\n",
       "    </tr>\n",
       "  </tbody>\n",
       "</table>\n",
       "<p>371 rows × 3 columns</p>\n",
       "</div>"
      ],
      "text/plain": [
       "       호선         역명                     주소\n",
       "0       1    가산디지털단지      서울특별시 금천구 벚꽃로 309\n",
       "1       1         개봉    서울특별시 구로구 경인로40길 47\n",
       "2       1        광운대     서울특별시 노원구 석계로 98-2\n",
       "3       1         구로    서울특별시 구로구 구로중앙로 174\n",
       "4       1         구일      서울특별시 구로구 구일로 133\n",
       "..    ...        ...                    ...\n",
       "366  우이신설     북한산보국문   서울특별시 성북구 보국문로 지하 88\n",
       "367  우이신설         정릉  서울특별시 성북구 아리랑로 지하 122\n",
       "368  우이신설     성신여대입구  서울특별시 성북구 동소문로 지하 102\n",
       "369  우이신설   보문(우이신설)   서울특별시 성북구 보문로 지하 116\n",
       "370  우이신설  신설동(우이신설)    서울특별시 동대문구 왕산로 지하 1\n",
       "\n",
       "[371 rows x 3 columns]"
      ]
     },
     "execution_count": 4,
     "metadata": {},
     "output_type": "execute_result"
    }
   ],
   "source": [
    "df1"
   ]
  },
  {
   "cell_type": "code",
   "execution_count": 5,
   "metadata": {},
   "outputs": [],
   "source": [
    "data2017 = df1"
   ]
  },
  {
   "cell_type": "code",
   "execution_count": 6,
   "metadata": {},
   "outputs": [],
   "source": [
    "newdata = {'호선':'9', '역명':'중앙보훈병원', '주소':'서울특별시 강동구 동남로 지하 117'}"
   ]
  },
  {
   "cell_type": "code",
   "execution_count": 7,
   "metadata": {},
   "outputs": [],
   "source": [
    "df2 = df1.append(newdata, ignore_index=True)"
   ]
  },
  {
   "cell_type": "code",
   "execution_count": 8,
   "metadata": {},
   "outputs": [
    {
     "data": {
      "text/html": [
       "<div>\n",
       "<style scoped>\n",
       "    .dataframe tbody tr th:only-of-type {\n",
       "        vertical-align: middle;\n",
       "    }\n",
       "\n",
       "    .dataframe tbody tr th {\n",
       "        vertical-align: top;\n",
       "    }\n",
       "\n",
       "    .dataframe thead th {\n",
       "        text-align: right;\n",
       "    }\n",
       "</style>\n",
       "<table border=\"1\" class=\"dataframe\">\n",
       "  <thead>\n",
       "    <tr style=\"text-align: right;\">\n",
       "      <th></th>\n",
       "      <th>호선</th>\n",
       "      <th>역명</th>\n",
       "      <th>주소</th>\n",
       "    </tr>\n",
       "  </thead>\n",
       "  <tbody>\n",
       "    <tr>\n",
       "      <th>0</th>\n",
       "      <td>1</td>\n",
       "      <td>가산디지털단지</td>\n",
       "      <td>서울특별시 금천구 벚꽃로 309</td>\n",
       "    </tr>\n",
       "    <tr>\n",
       "      <th>1</th>\n",
       "      <td>1</td>\n",
       "      <td>개봉</td>\n",
       "      <td>서울특별시 구로구 경인로40길 47</td>\n",
       "    </tr>\n",
       "    <tr>\n",
       "      <th>2</th>\n",
       "      <td>1</td>\n",
       "      <td>광운대</td>\n",
       "      <td>서울특별시 노원구 석계로 98-2</td>\n",
       "    </tr>\n",
       "    <tr>\n",
       "      <th>3</th>\n",
       "      <td>1</td>\n",
       "      <td>구로</td>\n",
       "      <td>서울특별시 구로구 구로중앙로 174</td>\n",
       "    </tr>\n",
       "    <tr>\n",
       "      <th>4</th>\n",
       "      <td>1</td>\n",
       "      <td>구일</td>\n",
       "      <td>서울특별시 구로구 구일로 133</td>\n",
       "    </tr>\n",
       "    <tr>\n",
       "      <th>...</th>\n",
       "      <td>...</td>\n",
       "      <td>...</td>\n",
       "      <td>...</td>\n",
       "    </tr>\n",
       "    <tr>\n",
       "      <th>367</th>\n",
       "      <td>우이신설</td>\n",
       "      <td>정릉</td>\n",
       "      <td>서울특별시 성북구 아리랑로 지하 122</td>\n",
       "    </tr>\n",
       "    <tr>\n",
       "      <th>368</th>\n",
       "      <td>우이신설</td>\n",
       "      <td>성신여대입구</td>\n",
       "      <td>서울특별시 성북구 동소문로 지하 102</td>\n",
       "    </tr>\n",
       "    <tr>\n",
       "      <th>369</th>\n",
       "      <td>우이신설</td>\n",
       "      <td>보문(우이신설)</td>\n",
       "      <td>서울특별시 성북구 보문로 지하 116</td>\n",
       "    </tr>\n",
       "    <tr>\n",
       "      <th>370</th>\n",
       "      <td>우이신설</td>\n",
       "      <td>신설동(우이신설)</td>\n",
       "      <td>서울특별시 동대문구 왕산로 지하 1</td>\n",
       "    </tr>\n",
       "    <tr>\n",
       "      <th>371</th>\n",
       "      <td>9</td>\n",
       "      <td>중앙보훈병원</td>\n",
       "      <td>서울특별시 강동구 동남로 지하 117</td>\n",
       "    </tr>\n",
       "  </tbody>\n",
       "</table>\n",
       "<p>372 rows × 3 columns</p>\n",
       "</div>"
      ],
      "text/plain": [
       "       호선         역명                     주소\n",
       "0       1    가산디지털단지      서울특별시 금천구 벚꽃로 309\n",
       "1       1         개봉    서울특별시 구로구 경인로40길 47\n",
       "2       1        광운대     서울특별시 노원구 석계로 98-2\n",
       "3       1         구로    서울특별시 구로구 구로중앙로 174\n",
       "4       1         구일      서울특별시 구로구 구일로 133\n",
       "..    ...        ...                    ...\n",
       "367  우이신설         정릉  서울특별시 성북구 아리랑로 지하 122\n",
       "368  우이신설     성신여대입구  서울특별시 성북구 동소문로 지하 102\n",
       "369  우이신설   보문(우이신설)   서울특별시 성북구 보문로 지하 116\n",
       "370  우이신설  신설동(우이신설)    서울특별시 동대문구 왕산로 지하 1\n",
       "371     9     중앙보훈병원   서울특별시 강동구 동남로 지하 117\n",
       "\n",
       "[372 rows x 3 columns]"
      ]
     },
     "execution_count": 8,
     "metadata": {},
     "output_type": "execute_result"
    }
   ],
   "source": [
    "df2"
   ]
  },
  {
   "cell_type": "code",
   "execution_count": 9,
   "metadata": {},
   "outputs": [],
   "source": [
    "data2018, data2019 = df2, df2"
   ]
  },
  {
   "cell_type": "code",
   "execution_count": 10,
   "metadata": {},
   "outputs": [],
   "source": [
    "result = pd.concat([data2017, data2018, data2019], keys=['2017','2018','2019'])"
   ]
  },
  {
   "cell_type": "code",
   "execution_count": 11,
   "metadata": {},
   "outputs": [
    {
     "data": {
      "text/html": [
       "<div>\n",
       "<style scoped>\n",
       "    .dataframe tbody tr th:only-of-type {\n",
       "        vertical-align: middle;\n",
       "    }\n",
       "\n",
       "    .dataframe tbody tr th {\n",
       "        vertical-align: top;\n",
       "    }\n",
       "\n",
       "    .dataframe thead th {\n",
       "        text-align: right;\n",
       "    }\n",
       "</style>\n",
       "<table border=\"1\" class=\"dataframe\">\n",
       "  <thead>\n",
       "    <tr style=\"text-align: right;\">\n",
       "      <th></th>\n",
       "      <th></th>\n",
       "      <th>호선</th>\n",
       "      <th>역명</th>\n",
       "      <th>주소</th>\n",
       "    </tr>\n",
       "  </thead>\n",
       "  <tbody>\n",
       "    <tr>\n",
       "      <th rowspan=\"5\" valign=\"top\">2017</th>\n",
       "      <th>0</th>\n",
       "      <td>1</td>\n",
       "      <td>가산디지털단지</td>\n",
       "      <td>서울특별시 금천구 벚꽃로 309</td>\n",
       "    </tr>\n",
       "    <tr>\n",
       "      <th>1</th>\n",
       "      <td>1</td>\n",
       "      <td>개봉</td>\n",
       "      <td>서울특별시 구로구 경인로40길 47</td>\n",
       "    </tr>\n",
       "    <tr>\n",
       "      <th>2</th>\n",
       "      <td>1</td>\n",
       "      <td>광운대</td>\n",
       "      <td>서울특별시 노원구 석계로 98-2</td>\n",
       "    </tr>\n",
       "    <tr>\n",
       "      <th>3</th>\n",
       "      <td>1</td>\n",
       "      <td>구로</td>\n",
       "      <td>서울특별시 구로구 구로중앙로 174</td>\n",
       "    </tr>\n",
       "    <tr>\n",
       "      <th>4</th>\n",
       "      <td>1</td>\n",
       "      <td>구일</td>\n",
       "      <td>서울특별시 구로구 구일로 133</td>\n",
       "    </tr>\n",
       "    <tr>\n",
       "      <th>...</th>\n",
       "      <th>...</th>\n",
       "      <td>...</td>\n",
       "      <td>...</td>\n",
       "      <td>...</td>\n",
       "    </tr>\n",
       "    <tr>\n",
       "      <th rowspan=\"5\" valign=\"top\">2019</th>\n",
       "      <th>367</th>\n",
       "      <td>우이신설</td>\n",
       "      <td>정릉</td>\n",
       "      <td>서울특별시 성북구 아리랑로 지하 122</td>\n",
       "    </tr>\n",
       "    <tr>\n",
       "      <th>368</th>\n",
       "      <td>우이신설</td>\n",
       "      <td>성신여대입구</td>\n",
       "      <td>서울특별시 성북구 동소문로 지하 102</td>\n",
       "    </tr>\n",
       "    <tr>\n",
       "      <th>369</th>\n",
       "      <td>우이신설</td>\n",
       "      <td>보문(우이신설)</td>\n",
       "      <td>서울특별시 성북구 보문로 지하 116</td>\n",
       "    </tr>\n",
       "    <tr>\n",
       "      <th>370</th>\n",
       "      <td>우이신설</td>\n",
       "      <td>신설동(우이신설)</td>\n",
       "      <td>서울특별시 동대문구 왕산로 지하 1</td>\n",
       "    </tr>\n",
       "    <tr>\n",
       "      <th>371</th>\n",
       "      <td>9</td>\n",
       "      <td>중앙보훈병원</td>\n",
       "      <td>서울특별시 강동구 동남로 지하 117</td>\n",
       "    </tr>\n",
       "  </tbody>\n",
       "</table>\n",
       "<p>1115 rows × 3 columns</p>\n",
       "</div>"
      ],
      "text/plain": [
       "            호선         역명                     주소\n",
       "2017 0       1    가산디지털단지      서울특별시 금천구 벚꽃로 309\n",
       "     1       1         개봉    서울특별시 구로구 경인로40길 47\n",
       "     2       1        광운대     서울특별시 노원구 석계로 98-2\n",
       "     3       1         구로    서울특별시 구로구 구로중앙로 174\n",
       "     4       1         구일      서울특별시 구로구 구일로 133\n",
       "...        ...        ...                    ...\n",
       "2019 367  우이신설         정릉  서울특별시 성북구 아리랑로 지하 122\n",
       "     368  우이신설     성신여대입구  서울특별시 성북구 동소문로 지하 102\n",
       "     369  우이신설   보문(우이신설)   서울특별시 성북구 보문로 지하 116\n",
       "     370  우이신설  신설동(우이신설)    서울특별시 동대문구 왕산로 지하 1\n",
       "     371     9     중앙보훈병원   서울특별시 강동구 동남로 지하 117\n",
       "\n",
       "[1115 rows x 3 columns]"
      ]
     },
     "execution_count": 11,
     "metadata": {},
     "output_type": "execute_result"
    }
   ],
   "source": [
    "result"
   ]
  },
  {
   "cell_type": "code",
   "execution_count": 12,
   "metadata": {},
   "outputs": [],
   "source": [
    "result.to_excel('C:/Users/USER/Desktop/dump/2. 데이터 파일/지하철/result.xlsx')"
   ]
  },
  {
   "cell_type": "code",
   "execution_count": 13,
   "metadata": {},
   "outputs": [
    {
     "data": {
      "text/plain": [
       "2017  0          서울특별시 금천구 벚꽃로 309\n",
       "      1        서울특별시 구로구 경인로40길 47\n",
       "      2         서울특별시 노원구 석계로 98-2\n",
       "      3        서울특별시 구로구 구로중앙로 174\n",
       "      4          서울특별시 구로구 구일로 133\n",
       "                     ...          \n",
       "2019  367    서울특별시 성북구 아리랑로 지하 122\n",
       "      368    서울특별시 성북구 동소문로 지하 102\n",
       "      369     서울특별시 성북구 보문로 지하 116\n",
       "      370      서울특별시 동대문구 왕산로 지하 1\n",
       "      371     서울특별시 강동구 동남로 지하 117\n",
       "Name: 주소, Length: 1115, dtype: object"
      ]
     },
     "execution_count": 13,
     "metadata": {},
     "output_type": "execute_result"
    }
   ],
   "source": [
    "result['주소']"
   ]
  },
  {
   "cell_type": "code",
   "execution_count": 14,
   "metadata": {},
   "outputs": [],
   "source": [
    "import requests\n",
    "from urllib.parse import urlparse\n",
    "import json"
   ]
  },
  {
   "cell_type": "code",
   "execution_count": 60,
   "metadata": {},
   "outputs": [],
   "source": [
    "def get_xy(addr):\n",
    "    url = 'https://dapi.kakao.com/v2/local/search/address.json?query=' + addr\n",
    "    headers = {\"Authorization\": \"KakaoAK 6cdf352a6c95daa50d9f554e1c18631c\"}\n",
    "    results = requests.get(urlparse(url).geturl(), headers=headers)\n",
    "    json_obj = results.json()\n",
    "    for document in json_obj['documents']:\n",
    "        val = [document['y'], document['x']]\n",
    "    return val"
   ]
  },
  {
   "cell_type": "code",
   "execution_count": 75,
   "metadata": {},
   "outputs": [
    {
     "ename": "UnboundLocalError",
     "evalue": "local variable 'val' referenced before assignment",
     "output_type": "error",
     "traceback": [
      "\u001b[1;31m---------------------------------------------------------------------------\u001b[0m",
      "\u001b[1;31mUnboundLocalError\u001b[0m                         Traceback (most recent call last)",
      "\u001b[1;32m<ipython-input-75-83993e3755f3>\u001b[0m in \u001b[0;36m<module>\u001b[1;34m\u001b[0m\n\u001b[1;32m----> 1\u001b[1;33m \u001b[0mget_xy\u001b[0m\u001b[1;33m(\u001b[0m\u001b[0mresult\u001b[0m\u001b[1;33m[\u001b[0m\u001b[1;34m'주소'\u001b[0m\u001b[1;33m]\u001b[0m\u001b[1;33m[\u001b[0m\u001b[1;36m8\u001b[0m\u001b[1;33m]\u001b[0m\u001b[1;33m)\u001b[0m\u001b[1;33m\u001b[0m\u001b[1;33m\u001b[0m\u001b[0m\n\u001b[0m",
      "\u001b[1;32m<ipython-input-60-0e11f27a5957>\u001b[0m in \u001b[0;36mget_xy\u001b[1;34m(addr)\u001b[0m\n\u001b[0;32m      6\u001b[0m     \u001b[1;32mfor\u001b[0m \u001b[0mdocument\u001b[0m \u001b[1;32min\u001b[0m \u001b[0mjson_obj\u001b[0m\u001b[1;33m[\u001b[0m\u001b[1;34m'documents'\u001b[0m\u001b[1;33m]\u001b[0m\u001b[1;33m:\u001b[0m\u001b[1;33m\u001b[0m\u001b[1;33m\u001b[0m\u001b[0m\n\u001b[0;32m      7\u001b[0m         \u001b[0mval\u001b[0m \u001b[1;33m=\u001b[0m \u001b[1;33m[\u001b[0m\u001b[0mdocument\u001b[0m\u001b[1;33m[\u001b[0m\u001b[1;34m'y'\u001b[0m\u001b[1;33m]\u001b[0m\u001b[1;33m,\u001b[0m \u001b[0mdocument\u001b[0m\u001b[1;33m[\u001b[0m\u001b[1;34m'x'\u001b[0m\u001b[1;33m]\u001b[0m\u001b[1;33m]\u001b[0m\u001b[1;33m\u001b[0m\u001b[1;33m\u001b[0m\u001b[0m\n\u001b[1;32m----> 8\u001b[1;33m     \u001b[1;32mreturn\u001b[0m \u001b[0mval\u001b[0m\u001b[1;33m\u001b[0m\u001b[1;33m\u001b[0m\u001b[0m\n\u001b[0m",
      "\u001b[1;31mUnboundLocalError\u001b[0m: local variable 'val' referenced before assignment"
     ]
    }
   ],
   "source": [
    "get_xy(result['주소'][8])"
   ]
  },
  {
   "cell_type": "code",
   "execution_count": 73,
   "metadata": {},
   "outputs": [
    {
     "ename": "UnboundLocalError",
     "evalue": "local variable 'val' referenced before assignment",
     "output_type": "error",
     "traceback": [
      "\u001b[1;31m---------------------------------------------------------------------------\u001b[0m",
      "\u001b[1;31mUnboundLocalError\u001b[0m                         Traceback (most recent call last)",
      "\u001b[1;32m<ipython-input-73-c02cf73e432b>\u001b[0m in \u001b[0;36m<module>\u001b[1;34m\u001b[0m\n\u001b[0;32m      3\u001b[0m \u001b[1;32mfor\u001b[0m \u001b[0maddress\u001b[0m \u001b[1;32min\u001b[0m \u001b[0mresult\u001b[0m\u001b[1;33m[\u001b[0m\u001b[1;34m'주소'\u001b[0m\u001b[1;33m]\u001b[0m\u001b[1;33m:\u001b[0m\u001b[1;33m\u001b[0m\u001b[1;33m\u001b[0m\u001b[0m\n\u001b[0;32m      4\u001b[0m     \u001b[1;32mglobal\u001b[0m \u001b[0mval\u001b[0m\u001b[1;33m\u001b[0m\u001b[1;33m\u001b[0m\u001b[0m\n\u001b[1;32m----> 5\u001b[1;33m     \u001b[0mList\u001b[0m\u001b[1;33m.\u001b[0m\u001b[0mappend\u001b[0m\u001b[1;33m(\u001b[0m\u001b[0mget_xy\u001b[0m\u001b[1;33m(\u001b[0m\u001b[0maddress\u001b[0m\u001b[1;33m)\u001b[0m\u001b[1;33m)\u001b[0m\u001b[1;33m\u001b[0m\u001b[1;33m\u001b[0m\u001b[0m\n\u001b[0m",
      "\u001b[1;32m<ipython-input-60-0e11f27a5957>\u001b[0m in \u001b[0;36mget_xy\u001b[1;34m(addr)\u001b[0m\n\u001b[0;32m      6\u001b[0m     \u001b[1;32mfor\u001b[0m \u001b[0mdocument\u001b[0m \u001b[1;32min\u001b[0m \u001b[0mjson_obj\u001b[0m\u001b[1;33m[\u001b[0m\u001b[1;34m'documents'\u001b[0m\u001b[1;33m]\u001b[0m\u001b[1;33m:\u001b[0m\u001b[1;33m\u001b[0m\u001b[1;33m\u001b[0m\u001b[0m\n\u001b[0;32m      7\u001b[0m         \u001b[0mval\u001b[0m \u001b[1;33m=\u001b[0m \u001b[1;33m[\u001b[0m\u001b[0mdocument\u001b[0m\u001b[1;33m[\u001b[0m\u001b[1;34m'y'\u001b[0m\u001b[1;33m]\u001b[0m\u001b[1;33m,\u001b[0m \u001b[0mdocument\u001b[0m\u001b[1;33m[\u001b[0m\u001b[1;34m'x'\u001b[0m\u001b[1;33m]\u001b[0m\u001b[1;33m]\u001b[0m\u001b[1;33m\u001b[0m\u001b[1;33m\u001b[0m\u001b[0m\n\u001b[1;32m----> 8\u001b[1;33m     \u001b[1;32mreturn\u001b[0m \u001b[0mval\u001b[0m\u001b[1;33m\u001b[0m\u001b[1;33m\u001b[0m\u001b[0m\n\u001b[0m",
      "\u001b[1;31mUnboundLocalError\u001b[0m: local variable 'val' referenced before assignment"
     ]
    }
   ],
   "source": [
    "List = []\n",
    "\n",
    "for address in result['주소']:\n",
    "    List.append(get_xy(address))"
   ]
  },
  {
   "cell_type": "code",
   "execution_count": 72,
   "metadata": {},
   "outputs": [
    {
     "data": {
      "text/plain": [
       "[['37.4815957375443', '126.882559483336'],\n",
       " ['37.4945222528654', '126.859102583368'],\n",
       " ['37.6230335564713', '127.06176348127'],\n",
       " ['37.5024345090279', '126.881491595821'],\n",
       " ['37.4963911827294', '126.869920428658'],\n",
       " ['37.455609978438', '126.894514076077'],\n",
       " ['37.5405646005342', '126.971332437837'],\n",
       " ['37.5158026675555', '126.948359181242']]"
      ]
     },
     "execution_count": 72,
     "metadata": {},
     "output_type": "execute_result"
    }
   ],
   "source": [
    "list"
   ]
  },
  {
   "cell_type": "code",
   "execution_count": 29,
   "metadata": {},
   "outputs": [
    {
     "data": {
      "text/html": [
       "<div>\n",
       "<style scoped>\n",
       "    .dataframe tbody tr th:only-of-type {\n",
       "        vertical-align: middle;\n",
       "    }\n",
       "\n",
       "    .dataframe tbody tr th {\n",
       "        vertical-align: top;\n",
       "    }\n",
       "\n",
       "    .dataframe thead th {\n",
       "        text-align: right;\n",
       "    }\n",
       "</style>\n",
       "<table border=\"1\" class=\"dataframe\">\n",
       "  <thead>\n",
       "    <tr style=\"text-align: right;\">\n",
       "      <th></th>\n",
       "      <th></th>\n",
       "      <th>호선</th>\n",
       "      <th>역명</th>\n",
       "      <th>주소</th>\n",
       "    </tr>\n",
       "  </thead>\n",
       "  <tbody>\n",
       "    <tr>\n",
       "      <th rowspan=\"5\" valign=\"top\">2017</th>\n",
       "      <th>0</th>\n",
       "      <td>1</td>\n",
       "      <td>가산디지털단지</td>\n",
       "      <td>서울특별시 금천구 벚꽃로 309</td>\n",
       "    </tr>\n",
       "    <tr>\n",
       "      <th>1</th>\n",
       "      <td>1</td>\n",
       "      <td>개봉</td>\n",
       "      <td>서울특별시 구로구 경인로40길 47</td>\n",
       "    </tr>\n",
       "    <tr>\n",
       "      <th>2</th>\n",
       "      <td>1</td>\n",
       "      <td>광운대</td>\n",
       "      <td>서울특별시 노원구 석계로 98-2</td>\n",
       "    </tr>\n",
       "    <tr>\n",
       "      <th>3</th>\n",
       "      <td>1</td>\n",
       "      <td>구로</td>\n",
       "      <td>서울특별시 구로구 구로중앙로 174</td>\n",
       "    </tr>\n",
       "    <tr>\n",
       "      <th>4</th>\n",
       "      <td>1</td>\n",
       "      <td>구일</td>\n",
       "      <td>서울특별시 구로구 구일로 133</td>\n",
       "    </tr>\n",
       "    <tr>\n",
       "      <th>...</th>\n",
       "      <th>...</th>\n",
       "      <td>...</td>\n",
       "      <td>...</td>\n",
       "      <td>...</td>\n",
       "    </tr>\n",
       "    <tr>\n",
       "      <th rowspan=\"5\" valign=\"top\">2019</th>\n",
       "      <th>367</th>\n",
       "      <td>우이신설</td>\n",
       "      <td>정릉</td>\n",
       "      <td>서울특별시 성북구 아리랑로 지하 122</td>\n",
       "    </tr>\n",
       "    <tr>\n",
       "      <th>368</th>\n",
       "      <td>우이신설</td>\n",
       "      <td>성신여대입구</td>\n",
       "      <td>서울특별시 성북구 동소문로 지하 102</td>\n",
       "    </tr>\n",
       "    <tr>\n",
       "      <th>369</th>\n",
       "      <td>우이신설</td>\n",
       "      <td>보문(우이신설)</td>\n",
       "      <td>서울특별시 성북구 보문로 지하 116</td>\n",
       "    </tr>\n",
       "    <tr>\n",
       "      <th>370</th>\n",
       "      <td>우이신설</td>\n",
       "      <td>신설동(우이신설)</td>\n",
       "      <td>서울특별시 동대문구 왕산로 지하 1</td>\n",
       "    </tr>\n",
       "    <tr>\n",
       "      <th>371</th>\n",
       "      <td>9</td>\n",
       "      <td>중앙보훈병원</td>\n",
       "      <td>서울특별시 강동구 동남로 지하 117</td>\n",
       "    </tr>\n",
       "  </tbody>\n",
       "</table>\n",
       "<p>1115 rows × 3 columns</p>\n",
       "</div>"
      ],
      "text/plain": [
       "            호선         역명                     주소\n",
       "2017 0       1    가산디지털단지      서울특별시 금천구 벚꽃로 309\n",
       "     1       1         개봉    서울특별시 구로구 경인로40길 47\n",
       "     2       1        광운대     서울특별시 노원구 석계로 98-2\n",
       "     3       1         구로    서울특별시 구로구 구로중앙로 174\n",
       "     4       1         구일      서울특별시 구로구 구일로 133\n",
       "...        ...        ...                    ...\n",
       "2019 367  우이신설         정릉  서울특별시 성북구 아리랑로 지하 122\n",
       "     368  우이신설     성신여대입구  서울특별시 성북구 동소문로 지하 102\n",
       "     369  우이신설   보문(우이신설)   서울특별시 성북구 보문로 지하 116\n",
       "     370  우이신설  신설동(우이신설)    서울특별시 동대문구 왕산로 지하 1\n",
       "     371     9     중앙보훈병원   서울특별시 강동구 동남로 지하 117\n",
       "\n",
       "[1115 rows x 3 columns]"
      ]
     },
     "execution_count": 29,
     "metadata": {},
     "output_type": "execute_result"
    }
   ],
   "source": [
    "result = pd.DataFrame(list, columns = ['X좌표', 'Y좌표'])"
   ]
  },
  {
   "cell_type": "code",
   "execution_count": null,
   "metadata": {},
   "outputs": [],
   "source": [
    "result.to_excel('C:/Users/USER/Desktop/dump/2. 데이터 파일/지하철/result2.xlsx')"
   ]
  },
  {
   "cell_type": "code",
   "execution_count": null,
   "metadata": {},
   "outputs": [],
   "source": []
  }
 ],
 "metadata": {
  "kernelspec": {
   "display_name": "Python 3",
   "language": "python",
   "name": "python3"
  },
  "language_info": {
   "codemirror_mode": {
    "name": "ipython",
    "version": 3
   },
   "file_extension": ".py",
   "mimetype": "text/x-python",
   "name": "python",
   "nbconvert_exporter": "python",
   "pygments_lexer": "ipython3",
   "version": "3.7.6"
  }
 },
 "nbformat": 4,
 "nbformat_minor": 4
}
